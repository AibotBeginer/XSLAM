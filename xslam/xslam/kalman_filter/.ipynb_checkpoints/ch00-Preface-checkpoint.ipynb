{
 "cells": [
  {
   "cell_type": "markdown",
   "id": "9b19ff2b",
   "metadata": {},
   "source": [
    "# Preface"
   ]
  },
  {
   "cell_type": "markdown",
   "id": "a35ba050",
   "metadata": {},
   "source": [
    "\\addcontentsline{toc}{chapter}{Preface}"
   ]
  },
  {
   "cell_type": "code",
   "execution_count": 1,
   "id": "b0bd590b",
   "metadata": {},
   "outputs": [],
   "source": [
    "%matplotlib inline"
   ]
  },
  {
   "cell_type": "code",
   "execution_count": 3,
   "id": "107fb946",
   "metadata": {},
   "outputs": [
    {
     "data": {
      "text/html": [
       "\n",
       "        <style>\n",
       "        .output_wrapper, .output {\n",
       "            height:auto !important;\n",
       "            max-height:100000px;\n",
       "        }\n",
       "        .output_scroll {\n",
       "            box-shadow:none !important;\n",
       "            webkit-box-shadow:none !important;\n",
       "        }\n",
       "        </style>\n",
       "    "
      ],
      "text/plain": [
       "<IPython.core.display.HTML object>"
      ]
     },
     "execution_count": 3,
     "metadata": {},
     "output_type": "execute_result"
    }
   ],
   "source": [
    "#format the book\n",
    "import book_format\n",
    "book_format.set_style()"
   ]
  },
  {
   "cell_type": "markdown",
   "id": "3c5df044",
   "metadata": {},
   "source": [
    "卡尔曼滤波器和贝叶斯滤波器的介绍性教科书。 这本书是使用 Jupyter Notebook 编写的，因此您可以在浏览器中阅读本书，还可以运行和修改代码，查看书中的结果。 有什么更好的学习方式？"
   ]
  },
  {
   "cell_type": "markdown",
   "id": "9cfc686c",
   "metadata": {},
   "source": [
    "## Motivation for this Book\n",
    "\n",
    "我是一名在航空航天领域工作了近 20 年的软件工程师，所以我一直在用卡尔曼滤波器“碰碰运气”，但从未实施过。 他们总是以困难着称。 该理论很漂亮，但如果您还没有在信号处理、控制理论、概率和统计以及制导和控制理论等主题方面受过良好训练，则很难学习。 当我开始用计算机视觉解决跟踪问题时，我自己实现它们的需求就变成了\n",
    "紧急。\n",
    "\n",
    "该领域有优秀的教科书，例如 Grewal 和 Andrew 的 *Kalman Filtering*。但是如果您没有必要的背景，坐下来尝试阅读其中的许多书籍是一种令人沮丧和尝试的经历。通常，前几章会快速浏览几年的本科数学，轻松地向您介绍有关伊藤微积分的教科书，并在几段简短的段落中介绍整个学期的统计数据。它们是高年级本科或研究生课程的教科书，也是研究人员和专业人士的宝贵参考，但对于更随意的读者来说，这确实很难。符号介绍不解释，不同的文本对同一概念使用不同的词和变量名称，书中几乎没有例子或工作问题。我经常发现自己能够解析单词并理解定义的数学，但不知道这些单词和数学试图描述的现实世界现象是什么。 “但这*是什么意思？*”是我重复的想法。以下是曾经让我感到困惑的典型例子：\n",
    "\n",
    "$$\\begin{aligned}\\hat{x}_{k} = \\Phi_{k}\\hat{x}_{k-1} + G_k u_{k-1} + K_k [z_k - H \\Phi_{k} \\hat{x}_{k-1} - H G_k u_{k-1}]\n",
    "\\\\ \n",
    "\\mathbf{P}_{k\\mid k} = (I - \\mathbf{K}_k \\mathbf{H}_{k})\\textrm{cov}(\\mathbf{x}_k - \\hat{\\mathbf{x}}_{k\\mid k-1})(I - \\mathbf{K}_k \\mathbf{H}_{k})^{\\text{T}}  + \\mathbf{K}_k\\textrm{cov}(\\mathbf{v}_k )\\mathbf{K}_k^{\\text{T}}\\end{aligned}$$\n",
    "\n",
    "然而，当我开始最终理解卡尔曼滤波器时，我意识到基本概念非常简单。如果你知道一些简单的概率规则，并且对我们如何融合不确定知识有一些直觉，那么卡尔曼滤波器的概念就很容易理解了。卡尔曼滤波器以困难着称，但去掉了许多正式术语，我就清楚这门学科及其数学的美妙之处，我爱上了这个话题。\n",
    "\n",
    "当我开始理解数学和理论时，更多的困难出现了。一本书或论文将陈述一些事实并提供图表作为证据。不幸的是，我不清楚为什么这个陈述是真的，或者我无法重现情节。或者我想知道“如果 R=0，这是真的吗？”或者作者提供了这么高层次的伪代码，实现不明显。有些书提供了 Matlab 代码，但我没有那个昂贵包的许可证。最后，许多书在每一章的结尾都有许多有用的练习。如果您想自己实现卡尔曼滤波器，您需要了解的练习，但没有答案的练习。如果你在课堂上使用这本书，也许这没问题，但对于独立读者来说却很糟糕。我讨厌作者隐瞒我的信息，大概是为了避免学生在课堂上“作弊”。\n",
    "\n",
    "所有这些都阻碍了学习。我想在屏幕上跟踪图像，或者为我的 Arduino 项目编写一些代码。我想知道书中的情节是如何制作的，以及选择与作者选择的参数不同的参数。我想运行模拟。我想在信号中注入更多的噪声，看看滤波器的性能如何。在日常代码中使用卡尔曼滤波器的机会数以千计，但这个相当简单的主题是火箭科学家和学者的出处。\n",
    "\n",
    "我写这本书就是为了满足所有这些需求。如果您设计军用雷达，这不是唯一适合您的书。去一流的 STEM 学校攻读硕士或博士学位，因为你会需要它。本书适用于需要过滤或平滑数据的业余爱好者、好奇心和工作工程师。如果您是业余爱好者，这本书应该会提供您需要的一切。如果您认真对待卡尔曼滤波器，您将需要更多。我的目的是引入足够的概念和数学，使教科书和论文平易近人。\n",
    "\n",
    "这本书是互动的。虽然您可以将其作为静态内容在线阅读，但我强烈建议您按预期使用它。它是使用 Jupyter Notebook 编写的。这允许我将文本、数学、Python 和 Python 输出组合在一个地方。本书中的每一个情节、每一条数据都是由笔记本中的 Python 生成的。想要将参数值加倍？只需更改参数的值，然后按 CTRL-ENTER。将出现一个新的绘图或打印输出。\n",
    "\n",
    "这本书有练习，但也有答案。我相信你。如果您只需要答案，请继续阅读答案。如果您想内化这些知识，请在阅读答案之前尝试实施该练习。由于本书是交互式的，因此您可以在书中输入并运行您的解决方案 - 您不必移动到不同的环境，或者在开始之前处理导入一堆东西。\n",
    "\n",
    "这本书是免费的。我在卡尔曼滤波书籍上花了几千美元。我无法相信他们是经济不景气的人或经济困难的学生可以接触到的。我从 Python 之类的免费软件和 Allen B. Downey [1] 之类的免费书籍中获益良多。是时候回报了。因此，这本书是免费的，它托管在 GitHub 的免费服务器上，并且只使用免费和开放的软件，例如 IPython 和 MathJax。\n"
   ]
  },
  {
   "cell_type": "markdown",
   "id": "4026d630",
   "metadata": {},
   "source": [
    "## Kalman and Bayesian Filters\n",
    "\n",
    "传感器有噪音。 世界上充满了我们想要测量和跟踪的数据和事件，但我们不能依靠传感器为我们提供完美的信息。 我车上的 GPS 报告高度。 每次我经过道路上的同一点时，它都会报告略有不同的高度。 如果我称同一个物体两次，我的厨房秤会给我不同的读数。\n",
    "\n",
    "在简单的情况下，解决方案是显而易见的。 如果我的秤给出的读数略有不同，我可以只取一些读数并取平均值。 或者我可以用更准确的比例替换它。 但是当传感器非常嘈杂，或者环境使数据收集变得困难时，我们该怎么办？ 我们可能正试图追踪一架低空飞行的飞机的运动。 我们可能想要为无人机创建自动驾驶仪，或者确保我们的农用拖拉机为整个田地播种。 我从事计算机视觉工作，我需要跟踪图像中的移动对象，而计算机视觉算法会产生非常嘈杂且不可靠的结果。\n",
    "\n",
    "这本书教你如何解决这类过滤问题。 我使用了许多不同的算法，但它们都基于*贝叶斯概率*。 简单来说，贝叶斯概率根据过去的信息确定什么可能是真的。\n",
    "\n",
    "如果我现在问你我车的方向，你会不知道。 您会提供一个介于 1$^\\circ$ 和 360$^\\circ$ 度之间的数字，并且有 360 分之一的机会是正确的。 现在假设我告诉你 2 秒前它的标题是 243$^\\circ$。 在 2 秒内，我的车无法转弯太远，因此您可以做出更准确的预测。 您正在使用过去的信息来更准确地推断关于现在或未来的信息。\n",
    "\n",
    "世界也嘈杂。 该预测可帮助您做出更好的估计，但也会受到噪音的影响。 我可能刚刚为狗刹车或在坑洼周围转弯。 道路上的强风和冰是对我的汽车路径的外部影响。 在控制文献中，我们称之为*噪音*，尽管您可能不这么认为。\n",
    "\n",
    "贝叶斯概率还有更多内容，但您有主要思想。 知识是不确定的，我们会根据证据的强度改变我们的信念。 卡尔曼滤波器和贝叶斯滤波器将我们对系统行为方式的嘈杂和有限知识与嘈杂和有限的传感器读数融合在一起，以产生对系统状态的最佳可能估计。 我们的原则是永不丢弃信息。\n",
    "\n",
    "假设我们正在跟踪一个物体，一个传感器报告它突然改变了方向。 是真的转了，还是数据有噪音？ 这取决于。 如果这是一架喷气式战斗机，我们会非常倾向于相信突然机动的报道。 如果是直轨货运列车，我们会打折。 我们将根据传感器的准确程度进一步修改我们的信念。 我们的信念取决于过去和我们对所跟踪系统的了解以及传感器的特性。\n",
    "\n",
    "卡尔曼滤波器由鲁道夫·埃米尔·卡尔曼 (Rudolf Emil Kálmán) 发明，以数学上最优的方式解决此类问题。 它的第一次使用是在阿波罗登月任务中，从那时起它就被用于各种各样的领域。 飞机、潜艇和巡航导弹上都有卡尔曼滤波器。 华尔街使用它们来跟踪市场。 它们用于机器人、IoT（物联网）传感器和实验室仪器。 化工厂使用它们来控制和监测反应。 它们用于执行医学成像并从心脏信号中去除噪声。 如果涉及传感器和/或时间序列数据，通常会涉及卡尔曼滤波器或卡尔曼滤波器的近亲。"
   ]
  },
  {
   "cell_type": "markdown",
   "id": "6378fe22",
   "metadata": {},
   "source": [
    "## PDF Version\n",
    "\n",
    "我会定期从笔记本中生成这本书的 PDF。 你可以在这里访问它：\n",
    "\n",
    "https://drive.google.com/file/d/0By_SW19c1BfhSVFzNHc0SjduNzg/view?usp=sharing"
   ]
  },
  {
   "cell_type": "markdown",
   "id": "d421fd1a",
   "metadata": {},
   "source": [
    "## Jupyter\n",
    "\n",
    "首先，关于在本书中使用 Jupyter Notebooks 的一些话。 这本书是互动的。 如果您想运行代码示例，特别是如果您想查看动画图，则需要运行代码单元。 我不能教你关于 Jupyter Notebooks 的一切。 然而，有几件事让读者大吃一惊。 您可以访问 http://jupyter.org/ 获取详细文档。\n",
    "\n",
    "首先，您必须始终运行最顶层的代码单元，即带有注释“#format the book”的代码单元。 就在上面。 这不仅设置了您可能不关心的格式，而且还加载了一些必要的模块并进行了一些有关绘图和打印的全局设置。 因此，除非您只是被动阅读，否则请始终运行此单元格。\n",
    "\n",
    "```python\n",
    "%matplotlib inline\n",
    "```\n",
    "\n",
    "导致绘图显示在笔记本内。 Matplotlib 是一个绘图包，如下所述。由于我不明白 Jupyter Notebooks 的默认行为是在外部窗口中生成绘图的原因。\n",
    "\n",
    "`%matplotlib` 中的百分号用于 IPython *magic* - 这些是内核的命令，用于执行不属于 Python 语言的事情。有很多有用的魔法命令，你可以在这里阅读它们：http://ipython.readthedocs.io/en/stable/interactive/magics.html\n",
    "\n",
    "在单元格内运行代码很容易。单击它使其具有焦点（将在其周围绘制一个框），然后按 CTRL-Enter。\n",
    "\n",
    "其次，细胞必须按顺序运行。我将问题分解为几个单元格；如果您尝试跳过并运行第十个代码单元，它几乎肯定不会工作。如果您还没有运行任何东西，只需从 **Cell** 菜单项中选择 *Run All Above*。这是确保一切都已运行的最简单方法。\n",
    "\n",
    "运行单元格后，您通常可以跳来跳去并以不同的顺序重新运行单元格，但并非总是如此。我正在尝试解决这个问题，但有一个权衡。我将在单元格 10 中定义一个变量（例如），然后运行修改单元格 11 和 12 中的变量的代码。如果您返回并再次运行单元格 11，则该变量将具有在单元格 12 中设置的值，并且代码需要在单元格 10 中设置的值。因此，如果您不按顺序运行单元格，有时您会得到奇怪的结果。我的建议是稍微回溯一下，然后运行单元格以再次回到正确的状态。这很烦人，但 Jupyter 笔记本的交互方面弥补了这一点。更好的是，在 GitHub 上提交问题，以便我了解问题并修复它！\n",
    "\n",
    "最后，一些读者报告了某些浏览器中的动画绘图功能存在问题。我无法重现这一点。在本书的部分内容中，我使用了 `%matplotlib notebook` 魔法，它可以进行交互式绘图。如果这些绘图不适合您，请尝试将其更改为 `%matplotlib inline`。您将失去动画绘图，但它似乎适用于所有平台和浏览器。"
   ]
  },
  {
   "cell_type": "markdown",
   "id": "7b74dd7e",
   "metadata": {},
   "source": [
    "## SciPy, NumPy, and Matplotlib\n",
    "\n",
    "SciPy 是一个开源的数学软件集合。 SciPy 中包含 NumPy，它提供数组对象、线性代数、随机数等。 Matplotlib 提供 NumPy 数组的绘图。 SciPy 的模块复制了 NumPy 中的一些功能，同时添加了优化、图像处理等功能。\n",
    "\n",
    "为了让我为本书所做的努力易于管理，我选择假设您知道如何使用 Python 进行编程，并且您也熟悉这些包。 尽管如此，我将花一些时间来说明每个的一些特点； 实际上，您将不得不寻找外部资源来教您详细信息。 SciPy 的主页 https://scipy.org 是一个完美的起点，但您很快就会想要搜索相关教程和/或视频。\n",
    "\n",
    "NumPy、SciPy 和 Matplotlib 不附带默认的 Python 发行版； 如果您没有安装它们，请参阅 *安装 * 附录。\n",
    "\n",
    "我在整本书中都使用了 NumPy 的数组数据结构，所以现在让我们了解一下它们。 我会教你足够多的入门知识； 如果您想成为专家，请参阅 NumPy 的文档。\n",
    "\n",
    "`numpy.array` 实现一维或多维数组。 它的类型是 `numpy.ndarray`，我们将其简称为 ndarray。 您可以使用任何类似列表的对象来构造它。 下面从一个列表构造一个一维数组："
   ]
  },
  {
   "cell_type": "code",
   "execution_count": 4,
   "id": "a8fb149f",
   "metadata": {},
   "outputs": [
    {
     "name": "stdout",
     "output_type": "stream",
     "text": [
      "<class 'numpy.ndarray'>\n"
     ]
    },
    {
     "data": {
      "text/plain": [
       "array([1, 2, 3])"
      ]
     },
     "execution_count": 4,
     "metadata": {},
     "output_type": "execute_result"
    }
   ],
   "source": [
    "import numpy as np\n",
    "x = np.array([1, 2, 3])\n",
    "print(type(x))\n",
    "x"
   ]
  },
  {
   "cell_type": "markdown",
   "id": "5e159d97",
   "metadata": {},
   "source": [
    "使用“import numpy as np”已成为行业标准。\n",
    "\n",
    "您还可以使用元组："
   ]
  },
  {
   "cell_type": "code",
   "execution_count": 5,
   "id": "ba985de7",
   "metadata": {},
   "outputs": [
    {
     "data": {
      "text/plain": [
       "array([4, 5, 6])"
      ]
     },
     "execution_count": 5,
     "metadata": {},
     "output_type": "execute_result"
    }
   ],
   "source": [
    "x = np.array((4,5,6))\n",
    "x"
   ]
  },
  {
   "cell_type": "markdown",
   "id": "9b87a2fe",
   "metadata": {},
   "source": [
    "使用嵌套括号创建多维数组："
   ]
  },
  {
   "cell_type": "code",
   "execution_count": 6,
   "id": "6919f42d",
   "metadata": {},
   "outputs": [
    {
     "name": "stdout",
     "output_type": "stream",
     "text": [
      "[[1 2 3]\n",
      " [4 5 6]]\n"
     ]
    }
   ],
   "source": [
    "x = np.array([[1, 2, 3],\n",
    "              [4, 5, 6]])\n",
    "print(x)"
   ]
  },
  {
   "cell_type": "code",
   "execution_count": 7,
   "id": "3ec6ed16",
   "metadata": {},
   "outputs": [
    {
     "name": "stdout",
     "output_type": "stream",
     "text": [
      "[1. 2. 3.]\n"
     ]
    }
   ],
   "source": [
    "x = np.array([1, 2, 3], dtype=float)\n",
    "print(x)"
   ]
  },
  {
   "cell_type": "markdown",
   "id": "d6d66d52",
   "metadata": {},
   "source": [
    "您可以使用下标位置访问数组元素："
   ]
  },
  {
   "cell_type": "code",
   "execution_count": 8,
   "id": "245a6477",
   "metadata": {},
   "outputs": [
    {
     "name": "stdout",
     "output_type": "stream",
     "text": [
      "6\n"
     ]
    }
   ],
   "source": [
    "x = np.array([[1, 2, 3],\n",
    "              [4, 5, 6]])\n",
    "\n",
    "print(x[1,2])"
   ]
  },
  {
   "cell_type": "markdown",
   "id": "453d73dd",
   "metadata": {},
   "source": [
    "您可以使用切片访问列或行。 用作下标的冒号 (:) 是该行或列中所有数据的简写。 所以 `x[:,0]` 返回第一列中所有数据的数组（0 指定第一列）："
   ]
  },
  {
   "cell_type": "code",
   "execution_count": 9,
   "id": "7d8c3666",
   "metadata": {},
   "outputs": [
    {
     "data": {
      "text/plain": [
       "array([1, 4])"
      ]
     },
     "execution_count": 9,
     "metadata": {},
     "output_type": "execute_result"
    }
   ],
   "source": [
    "x[:, 0]"
   ]
  },
  {
   "cell_type": "markdown",
   "id": "e09c442b",
   "metadata": {},
   "source": [
    "我们可以得到第二行："
   ]
  },
  {
   "cell_type": "code",
   "execution_count": 10,
   "id": "dfccb7f4",
   "metadata": {},
   "outputs": [
    {
     "data": {
      "text/plain": [
       "array([4, 5, 6])"
      ]
     },
     "execution_count": 10,
     "metadata": {},
     "output_type": "execute_result"
    }
   ],
   "source": [
    "x[1, :]"
   ]
  },
  {
   "cell_type": "markdown",
   "id": "ca786d8f",
   "metadata": {},
   "source": [
    "获取第二行的最后两个元素："
   ]
  },
  {
   "cell_type": "code",
   "execution_count": 11,
   "id": "47a99f4c",
   "metadata": {},
   "outputs": [
    {
     "data": {
      "text/plain": [
       "array([5, 6])"
      ]
     },
     "execution_count": 11,
     "metadata": {},
     "output_type": "execute_result"
    }
   ],
   "source": [
    "x[1, 1:]"
   ]
  },
  {
   "cell_type": "markdown",
   "id": "bdb56687",
   "metadata": {},
   "source": [
    "与 Python `list` 一样，您可以使用负索引来引用数组的末尾。 -1 指最后一个索引。 因此，获取第二（最后）行的最后两个元素的另一种方法是："
   ]
  },
  {
   "cell_type": "code",
   "execution_count": 12,
   "id": "7f42b6db",
   "metadata": {},
   "outputs": [
    {
     "data": {
      "text/plain": [
       "array([5, 6])"
      ]
     },
     "execution_count": 12,
     "metadata": {},
     "output_type": "execute_result"
    }
   ],
   "source": [
    "x[-1, -2:]"
   ]
  },
  {
   "cell_type": "markdown",
   "id": "ac2b1143",
   "metadata": {},
   "source": [
    "您可以使用 `+` 运算符执行矩阵加法，但矩阵乘法需要 `dot` 方法或函数。 `*` 运算符执行逐元素乘法，这**不是**您想要的线性代数。"
   ]
  },
  {
   "cell_type": "code",
   "execution_count": 13,
   "id": "e212ec80",
   "metadata": {},
   "outputs": [
    {
     "name": "stdout",
     "output_type": "stream",
     "text": [
      "addition:\n",
      " [[2. 4.]\n",
      " [6. 8.]]\n",
      "\n",
      "element-wise multiplication\n",
      " [[ 1.  4.]\n",
      " [ 9. 16.]]\n",
      "\n",
      "multiplication\n",
      " [[ 7. 10.]\n",
      " [15. 22.]]\n",
      "\n",
      "dot is also a member of np.array\n",
      " [[ 7. 10.]\n",
      " [15. 22.]]\n"
     ]
    }
   ],
   "source": [
    "x = np.array([[1., 2.],\n",
    "              [3., 4.]])\n",
    "print('addition:\\n', x + x)\n",
    "print('\\nelement-wise multiplication\\n', x * x)\n",
    "print('\\nmultiplication\\n', np.dot(x, x))\n",
    "print('\\ndot is also a member of np.array\\n', x.dot(x))"
   ]
  },
  {
   "cell_type": "markdown",
   "id": "30c80610",
   "metadata": {},
   "source": [
    "Python 3.5 为矩阵乘法引入了 `@` 运算符。"
   ]
  },
  {
   "cell_type": "code",
   "execution_count": 14,
   "id": "fbe2b567",
   "metadata": {},
   "outputs": [
    {
     "data": {
      "text/plain": [
       "array([[ 7., 10.],\n",
       "       [15., 22.]])"
      ]
     },
     "execution_count": 14,
     "metadata": {},
     "output_type": "execute_result"
    }
   ],
   "source": [
    "x @ x"
   ]
  },
  {
   "cell_type": "markdown",
   "id": "e38094fd",
   "metadata": {},
   "source": [
    "这仅在您使用 Python 3.5+ 时才有效。 这本书需要3.6或更高版本，所以我会尽可能使用它。 请注意，运算符要求两个值都是数组。 因此，`x @ 3.` 会引发 ValueError，而 `np.dot(X, 3.)` 工作正常。"
   ]
  },
  {
   "cell_type": "markdown",
   "id": "8af369e6",
   "metadata": {},
   "source": [
    "您可以使用 `.T` 获得转置，并使用 `numpy.linalg.inv` 获得反转。 SciPy 包还提供了反函数。"
   ]
  },
  {
   "cell_type": "code",
   "execution_count": 15,
   "id": "531f2a04",
   "metadata": {},
   "outputs": [
    {
     "name": "stdout",
     "output_type": "stream",
     "text": [
      "transpose\n",
      " [[1. 3.]\n",
      " [2. 4.]]\n",
      "\n",
      "NumPy ninverse\n",
      " [[-2.   1. ]\n",
      " [ 1.5 -0.5]]\n",
      "\n",
      "SciPy inverse\n",
      " [[-2.   1. ]\n",
      " [ 1.5 -0.5]]\n"
     ]
    }
   ],
   "source": [
    "import scipy.linalg as linalg\n",
    "print('transpose\\n', x.T)\n",
    "print('\\nNumPy ninverse\\n', np.linalg.inv(x))\n",
    "print('\\nSciPy inverse\\n', linalg.inv(x))"
   ]
  },
  {
   "cell_type": "markdown",
   "id": "ea317e08",
   "metadata": {},
   "source": [
    "有一些辅助函数，如 `zeros` 来创建一个全零矩阵，`ones` 来获取所有 1，以及 `eye` 来获取单位矩阵。 如果您想要一个多维数组，请使用元组来指定形状。"
   ]
  },
  {
   "cell_type": "code",
   "execution_count": 16,
   "id": "fd49be6f",
   "metadata": {},
   "outputs": [
    {
     "name": "stdout",
     "output_type": "stream",
     "text": [
      "zeros\n",
      " [0. 0. 0. 0. 0. 0. 0.]\n",
      "\n",
      "zeros(3x2)\n",
      " [[0. 0.]\n",
      " [0. 0.]\n",
      " [0. 0.]]\n",
      "\n",
      "eye\n",
      " [[1. 0. 0.]\n",
      " [0. 1. 0.]\n",
      " [0. 0. 1.]]\n"
     ]
    }
   ],
   "source": [
    "print('zeros\\n', np.zeros(7))\n",
    "print('\\nzeros(3x2)\\n', np.zeros((3, 2)))\n",
    "print('\\neye\\n', np.eye(3))"
   ]
  },
  {
   "cell_type": "markdown",
   "id": "a251d3b1",
   "metadata": {},
   "source": [
    "我们有创建等距数据的功能。 `arange` 的工作方式与 Python 的 `range` 函数非常相似，只是它返回一个 NumPy 数组。 `linspace` 的工作方式略有不同，您可以使用 `linspace(start, stop, num)` 调用它，其中 `num` 是您想要的数组的长度。"
   ]
  },
  {
   "cell_type": "code",
   "execution_count": 17,
   "id": "b368cf39",
   "metadata": {},
   "outputs": [
    {
     "data": {
      "text/plain": [
       "array([0. , 0.1, 0.2, 0.3, 0.4, 0.5, 0.6, 0.7, 0.8, 0.9, 1. , 1.1,\n",
       "       1.2, 1.3, 1.4, 1.5, 1.6, 1.7, 1.8, 1.9])"
      ]
     },
     "execution_count": 17,
     "metadata": {},
     "output_type": "execute_result"
    }
   ],
   "source": [
    "np.arange(0, 2, 0.1)"
   ]
  },
  {
   "cell_type": "code",
   "execution_count": 18,
   "id": "7f88fd58",
   "metadata": {},
   "outputs": [
    {
     "data": {
      "text/plain": [
       "array([0.   , 0.105, 0.211, 0.316, 0.421, 0.526, 0.632, 0.737, 0.842,\n",
       "       0.947, 1.053, 1.158, 1.263, 1.368, 1.474, 1.579, 1.684, 1.789,\n",
       "       1.895, 2.   ])"
      ]
     },
     "execution_count": 18,
     "metadata": {},
     "output_type": "execute_result"
    }
   ],
   "source": [
    "np.linspace(0, 2, 20)"
   ]
  },
  {
   "cell_type": "markdown",
   "id": "d1b053ad",
   "metadata": {},
   "source": [
    "现在让我们绘制一些数据。 在大多数情况下，它非常简单。 Matplotlib 包含一个绘图库“pyplot”。 将其作为“plt”导入是行业标准。 导入后，通过使用数字列表或数组调用“plt.plot”来绘制数字。 如果您进行多次调用，它将绘制多个系列，每个系列都有不同的颜色。"
   ]
  },
  {
   "cell_type": "code",
   "execution_count": 19,
   "id": "d750574b",
   "metadata": {},
   "outputs": [
    {
     "data": {
      "text/plain": [
       "[<matplotlib.lines.Line2D at 0x7f500c6d8940>]"
      ]
     },
     "execution_count": 19,
     "metadata": {},
     "output_type": "execute_result"
    },
    {
     "data": {
      "image/png": "[encoded data removed]",
      "text/plain": [
       "<Figure size 900x400 with 1 Axes>"
      ]
     },
     "metadata": {},
     "output_type": "display_data"
    }
   ],
   "source": [
    "import matplotlib.pyplot as plt\n",
    "a = np.array([6, 3, 5, 2, 4, 1])\n",
    "plt.plot([1, 4, 2, 5, 3, 6])\n",
    "plt.plot(a)"
   ]
  },
  {
   "cell_type": "markdown",
   "id": "0705dfca",
   "metadata": {},
   "source": [
    "输出 `[<matplotlib.lines.Line2D at 0x2ba160bed68>]` 是因为 `plt.plot` 返回刚刚创建的对象。 通常我们不想看到这种情况，所以我在最后一个绘图命令中添加了一个 `;` 来抑制该输出。\n",
    "\n",
    "默认情况下，`plot` 假定 x 系列递增 1。 您可以通过传入 x 和 y 来提供自己的 x 系列。"
   ]
  },
  {
   "cell_type": "code",
   "execution_count": 20,
   "id": "fe987504",
   "metadata": {},
   "outputs": [
    {
     "data": {
      "image/png": "[encoded data removed]",
      "text/plain": [
       "<Figure size 900x400 with 1 Axes>"
      ]
     },
     "metadata": {},
     "output_type": "display_data"
    }
   ],
   "source": [
    "plt.plot(np.arange(0,1, 0.1), [1,4,3,2,6,4,7,3,4,5]);"
   ]
  },
  {
   "cell_type": "markdown",
   "id": "f26a7ae5",
   "metadata": {},
   "source": [
    "我在本书中使用了这些包的更多功能。 通常我会不加解释地介绍它们，相信您可以从上下文中推断出用法，或者在网上搜索解释。 与往常一样，如果您不确定，请在 Notebook 中创建一个新单元格或启动 Python 控制台并进行实验！\n",
    "\n",
    "### Exercise -  Create arrays\n",
    "\n",
    "我希望你创建一个包含 10 个元素的 NumPy 数组，每个元素包含 1/10。 做这件事有很多种方法; 尝试尽可能多地实施。"
   ]
  },
  {
   "cell_type": "code",
   "execution_count": null,
   "id": "a6c43ceb",
   "metadata": {},
   "outputs": [],
   "source": [
    "# your solution"
   ]
  },
  {
   "cell_type": "markdown",
   "id": "a07ae801",
   "metadata": {},
   "source": [
    "### Solution\n",
    "\n",
    "这里有三种方法可以做到这一点。 第一个是我想让你知道的。 我使用“/”运算符将数组的所有元素除以 10。我们很快将使用它来将数组的单位从米转换为千米。"
   ]
  },
  {
   "cell_type": "code",
   "execution_count": 21,
   "id": "a06f0992",
   "metadata": {},
   "outputs": [
    {
     "name": "stdout",
     "output_type": "stream",
     "text": [
      "[0.1 0.1 0.1 0.1 0.1 0.1 0.1 0.1 0.1 0.1]\n",
      "[0.1 0.1 0.1 0.1 0.1 0.1 0.1 0.1 0.1 0.1]\n",
      "[0.1 0.1 0.1 0.1 0.1 0.1 0.1 0.1 0.1 0.1]\n"
     ]
    }
   ],
   "source": [
    "print(np.ones(10) / 10.)\n",
    "print(np.array([.1, .1, .1, .1, .1, .1, .1, .1, .1, .1]))\n",
    "print(np.array([.1] * 10))"
   ]
  },
  {
   "cell_type": "markdown",
   "id": "bff7c523",
   "metadata": {},
   "source": [
    "这是我还没有涉及的一个。 函数 `numpy.asarray()` 会将其参数转换为一个 ndarray，如果它还不是一个。 如果是，则数据不变。 这是编写一个可以接受 Python 列表或 ndarray 的函数的便捷方法，如果类型已经是 ndarray，因为没有创建任何新内容，它非常有效。"
   ]
  },
  {
   "cell_type": "code",
   "execution_count": 22,
   "id": "b58aa92d",
   "metadata": {},
   "outputs": [
    {
     "name": "stdout",
     "output_type": "stream",
     "text": [
      "[0.1 0.2 0.3]\n",
      "[0.4 0.5 0.6]\n"
     ]
    }
   ],
   "source": [
    "def one_tenth(x):\n",
    "    x = np.asarray(x)\n",
    "    return x / 10.\n",
    "\n",
    "print(one_tenth([1, 2, 3]))            # I work!\n",
    "print(one_tenth(np.array([4, 5, 6])))  # so do I!"
   ]
  },
  {
   "cell_type": "markdown",
   "id": "99216531",
   "metadata": {},
   "source": [
    "## Companion Software\n",
    "\n",
    "我正在编写一个名为 FilterPy 的开源贝叶斯过滤 Python 库。上面给出了安装说明。\n",
    "\n",
    "FilterPy 托管在 GitHub 上（https://github.com/rlabbe/filterpy），但 `pip` 安装版本应该可以满足您的需求。\n",
    "\n",
    "特定于书的代码与书一起存储在子目录**/kf_book** 中。它包含格式化书籍的代码。它还包含名称如 *xxx*_internal.py 的 python 文件。我使用这些来存储对特定章节有用的函数。这使我可以隐藏阅读起来并不特别有趣的 Python 代码——我可能正在生成一个绘图或图表，我希望您专注于图表的内容，而不是我如何使用 Python 生成该图表的机制。如果您对此机制感到好奇，请去浏览源代码。\n",
    "\n",
    "一些章节介绍了对本书其余部分有用的函数。这些函数最初是在 Notebook 本身中定义的，但代码也存储在 **/kf_book** 中的 Python 文件中，如果需要在后面的章节中导入该文件。当我在第一次定义函数的地方执行此操作时，我会记录，但这仍在进行中。我尽量避免这种情况，因为我总是面临目录中的代码与书中的代码不同步的问题。但是，Jupyter Notebook 并没有给我们提供一种方法来引用其他笔记本中的代码单元，所以这是我所知道的在笔记本之间共享功能的唯一机制。\n",
    "\n",
    "有一个名为 **/experiments** 的未记录目录。这是我在将代码放入书中之前编写和测试代码的地方。里面有一些有趣的东西，请随意看看。随着本书的发展，我计划创建示例和项目，并且很多此类材料将在那里结束。小型实验最终将被删除。如果你只是对阅读本书感兴趣，你可以放心地忽略这个目录。\n",
    "\n",
    "\n",
    "目录 **/kf_book** 包含一个 css 文件，其中包含该书的样式指南。 Jupyter Notebook 的默认外观和感觉相当简单。我遵循了诸如[Probabilistic Programming and Bayesian Methods for Hackers]（http://nbviewer.ipython.org/github/CamDavidsonPilon/Probabilistic-Programming-and-Bayesian-Methods-for-Hackers/blob/等书籍设置的示例）主/Chapter1_Introduction/Chapter1.ipynb) [2]。我也深受 Lorena Barba 教授出色的工作的影响，[可在此处获得](https://github.com/barbagroup/CFDPython) [3]。我的所有外观和感觉都归功于这些项目的工作。"
   ]
  },
  {
   "cell_type": "markdown",
   "id": "1b48a56c",
   "metadata": {},
   "source": [
    "## Thoughts on Python and Coding Math"
   ]
  },
  {
   "cell_type": "markdown",
   "id": "19f28775",
   "metadata": {},
   "source": [
    "大多数卡尔曼滤波和其他工程文本都是由数学家或学者撰写的。当有软件时（很少），它不是生产质量。以 Paul Zarchan 的《卡尔曼滤波基础知识》一书为例。这是一本非常棒的书，属于您的图书馆，也是为数不多的为每个示例和图表提供完整资源的书籍之一。但是代码是 Fortran，除了调用诸如“MATMUL”之类的函数之外没有任何子例程。卡尔曼滤波器在本书中重新实现。相同的清单将模拟与过滤代码混合在一起，因此很难区分它们。一些章节以略微不同的方式实现相同的过滤器，并使用粗体文本突出显示更改的几行。如果需要 Runge Kutta，它会嵌入到代码中，无需注释。\n",
    "\n",
    "有更好的方法。如果我想执行 Runge Kutta，我调用 ode45，我不会在我的代码中嵌入 Runge Kutta 实现。我不想多次实现 Runge Kutta 并多次调试它。如果我确实发现了一个错误，我可以修复它一次，并确保它现在适用于我所有不同的项目。而且，它是可读的。我很少关心 Runge Kutta 的实施。\n",
    "\n",
    "这是一本关于卡尔曼滤波的教科书，你可以说我们*确实*关心卡尔曼滤波器的实现。没错，但是执行过滤的代码使用了大约 10 行代码。实现数学的代码相当简单。卡尔曼滤波器所需的大部分工作是设计输入数学引擎的矩阵。\n",
    "\n",
    "一个可能的缺点是执行过滤的方程隐藏在函数后面，我们可以说这是教学文本中的损失。我反对相反。我希望您学习如何在现实世界中，为实际项目使用卡尔曼滤波器，并且您不应该到处剪切和粘贴已建立的算法。\n",
    "\n",
    "我使用 Python 类。我主要使用类来组织过滤器所需的数据，而不是实现诸如继承之类的面向对象 (OO) 功能。例如，`KalmanFilter` 类存储称为 `x`、`P`、`R`、`Q`、`S`、`y`、`K` 的矩阵和向量。我见过卡尔曼滤波器的程序库，它们需要程序员维护所有这些矩阵。这对于一个玩具程序来说可能还不错，但是对一组卡尔曼滤波器进行编程，您将不会喜欢管理所有这些矩阵和其他相关数据。我在自己的工作中偶尔会从这些类派生出来，并且觉得它很方便，但我不想强迫人们使用 OO，因为我知道很多人不喜欢它。"
   ]
  },
  {
   "cell_type": "markdown",
   "id": "c58e671e",
   "metadata": {},
   "source": [
    "## License\n",
    "\n",
    "<a rel=\"license\" href=\"http://creativecommons.org/licenses/by-nc-sa/4.0/\"><img alt=\"Creative Commons License\" style=\"border-width:0\" src=\"http://i.creativecommons.org/l/by-nc-sa/4.0/88x31.png\" /></a><br /><span xmlns:dct=\"http://purl.org/dc/terms/\" property=\"dct:title\">Kalman Filters and Random Signals in Python</span> by <a xmlns:cc=\"http://creativecommons.org/ns#\" href=\"https://github.com/rlabbe/Kalman-Filters-and-Random-Signals-in-Python\" property=\"cc:attributionName\" rel=\"cc:attributionURL\">Roger Labbe</a> is licensed under a <a rel=\"license\" href=\"http://creativecommons.org/licenses/by-nc-sa/4.0/\">Creative Commons Attribution-NonCommercial-ShareAlike 4.0 International License</a>.<br />\n",
    "\n",
    "http://creativecommons.org/licenses/by-nc-sa/4.0/\n",
    "\n",
    "Based on the work at <a xmlns:dct=\"http://purl.org/dc/terms/\" href=\"https://github.com/rlabbe/Kalman-and-Bayesian-Filters-in-Python\" rel=\"dct:source\">https://github.com/rlabbe/Kalman-and-Bayesian-Filters-in-Python</a>.\n",
    "\n",
    "## Contact\n",
    "\n",
    "rlabbejr@gmail.com\n",
    "\n",
    "## Resources\n",
    "\n",
    "* [1] http://www.greenteapress.com/\n",
    "* [2] http://nbviewer.ipython.org/github/CamDavidsonPilon/Probabilistic-Programming-and-Bayesian-Methods-for-Hackers/blob/master/Chapter1_Introduction/Chapter1.ipynb\n",
    "* [3] https://github.com/barbagroup/CFDPython"
   ]
  }
 ],
 "metadata": {
  "kernelspec": {
   "display_name": "Python 3 (ipykernel)",
   "language": "python",
   "name": "python3"
  },
  "language_info": {
   "codemirror_mode": {
    "name": "ipython",
    "version": 3
   },
   "file_extension": ".py",
   "mimetype": "text/x-python",
   "name": "python",
   "nbconvert_exporter": "python",
   "pygments_lexer": "ipython3",
   "version": "3.9.5"
  }
 },
 "nbformat": 4,
 "nbformat_minor": 5
}
